{
 "cells": [
  {
   "cell_type": "code",
   "execution_count": 1,
   "metadata": {},
   "outputs": [],
   "source": [
    "def give_options(x,y,z):\n",
    "    print(\"a):\", x)\n",
    "    print(\"b):\", y)\n",
    "    print(\"c):\", z)"
   ]
  },
  {
   "cell_type": "code",
   "execution_count": 2,
   "metadata": {},
   "outputs": [
    {
     "name": "stdout",
     "output_type": "stream",
     "text": [
      "Hello! Welcome to my Quiz\n",
      "All Questions carries 10 marks each\n",
      "Are you ready to play (yes/no): yes\n"
     ]
    }
   ],
   "source": [
    "print(\"Hello! Welcome to my Quiz\" \"\\n\" \"All Questions carries 10 marks each\")\n",
    "ans = input(\"Are you ready to play (yes/no): \")\n",
    "a =\"Note: wrtie answers! do not write option.\"\n",
    "score = 0\n",
    "total_questions = 4"
   ]
  },
  {
   "cell_type": "code",
   "execution_count": 3,
   "metadata": {},
   "outputs": [],
   "source": [
    "correct_ans =[\"python\", \"steve jobs\", \"artificial intelligence\", \"bitcoin\"]"
   ]
  },
  {
   "cell_type": "code",
   "execution_count": 4,
   "metadata": {},
   "outputs": [
    {
     "name": "stdout",
     "output_type": "stream",
     "text": [
      "Note: wrtie answers! do not write option.\n",
      "Question- What is the best Programming Language? \n",
      "a): Python\n",
      "b): C\n",
      "c): Java\n",
      "&gt;&gt;&gt;a\n",
      "Incorrect\n",
      "Note: wrtie answers! do not write option.\n",
      "Question- Who is the Founder of Apple Inc? \n",
      "a): Mark Zuckerberg\n",
      "b): Warren Buffet\n",
      "c): Steve jobs\n",
      "&gt;&gt;&gt;b\n",
      "Incorrect\n",
      "Note: wrtie answers! do not write option.\n",
      "Question- What is more better among these? \n",
      "a): Data Science\n",
      "b): Artificial Intelligence\n",
      "c): Digital Marketing\n",
      "&gt;&gt;&gt;c\n",
      "Incorrect\n",
      "Note: wrtie answers! do not write option.\n",
      "Question- What is the best Investment? \n",
      "a): Share Capital\n",
      "b): Mutual Funds\n",
      "c): Bitcoin\n",
      "&gt;&gt;&gt;c\n",
      "Incorrect\n"
     ]
    }
   ],
   "source": [
    "if ans.lower() == \"yes\":\n",
    "    print(a)\n",
    "    print(\"Question- What is the best Programming Language? \")\n",
    "    give_options(\"Python\", \"C\", \"Java\" )\n",
    "    ans=input(\"&gt;&gt;&gt;\")\n",
    "    if ans.lower() == correct_ans[0]:\n",
    "        score=score+1\n",
    "        print(\"Correct\")\n",
    "    else:\n",
    "        print(\"Incorrect\")\n",
    "    print(a)\n",
    "    print(\"Question- Who is the Founder of Apple Inc? \")\n",
    "    give_options(\"Mark Zuckerberg\", \"Warren Buffet\", \"Steve jobs\")\n",
    "    ans = input(\"&gt;&gt;&gt;\")\n",
    "    if ans.lower() == correct_ans[1]:\n",
    "        score=score+1\n",
    "        print(\"Correct\")\n",
    "    else:\n",
    "        print(\"Incorrect\")\n",
    "    print(a)\n",
    "    print(\"Question- What is more better among these? \")\n",
    "    give_options(\"Data Science\", \"Artificial Intelligence\", \"Digital Marketing\")\n",
    "    ans = input(\"&gt;&gt;&gt;\")\n",
    "    if ans.lower() == correct_ans[2]:\n",
    "        score=score+1\n",
    "        print(\"Correct\")\n",
    "    else:\n",
    "        print(\"Incorrect\")\n",
    "    print(a)\n",
    "    print(\"Question- What is the best Investment? \")\n",
    "    give_options(\"Share Capital\", \"Mutual Funds\", \"Bitcoin\")\n",
    "    ans = input(\"&gt;&gt;&gt;\")\n",
    "    if ans.lower() == correct_ans[3]:\n",
    "        score=score+1\n",
    "        print(\"Correct\")\n",
    "    else:\n",
    "        print(\"Incorrect\")"
   ]
  },
  {
   "cell_type": "code",
   "execution_count": null,
   "metadata": {},
   "outputs": [],
   "source": []
  }
 ],
 "metadata": {
  "kernelspec": {
   "display_name": "Python 3",
   "language": "python",
   "name": "python3"
  },
  "language_info": {
   "codemirror_mode": {
    "name": "ipython",
    "version": 3
   },
   "file_extension": ".py",
   "mimetype": "text/x-python",
   "name": "python",
   "nbconvert_exporter": "python",
   "pygments_lexer": "ipython3",
   "version": "3.7.1"
  }
 },
 "nbformat": 4,
 "nbformat_minor": 2
}
